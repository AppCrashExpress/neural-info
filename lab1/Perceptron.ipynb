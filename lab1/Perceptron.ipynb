{
 "cells": [
  {
   "cell_type": "markdown",
   "id": "d7cbd48a-59d3-4c42-b7a6-21ab98e14ed3",
   "metadata": {},
   "source": [
    "### Libraries"
   ]
  },
  {
   "cell_type": "code",
   "execution_count": 1,
   "id": "5da7cb5c-c4ab-4c4a-bb7c-4a65135e0327",
   "metadata": {},
   "outputs": [],
   "source": [
    "import numpy as np\n",
    "import matplotlib.pyplot as plt"
   ]
  },
  {
   "cell_type": "markdown",
   "id": "a66b154a-cc06-4524-bc26-515d1b3239e3",
   "metadata": {
    "tags": []
   },
   "source": [
    "### Вариант 9"
   ]
  },
  {
   "cell_type": "code",
   "execution_count": 2,
   "id": "8ddbc7ad-439a-413b-92cc-866d1748f24d",
   "metadata": {},
   "outputs": [],
   "source": [
    "feats_1 = np.array([\n",
    "    [-1.1, -4.3],\n",
    "    [ 1.8, -1],\n",
    "    [ 4.8, -1],\n",
    "    [ 1.2, -3.5],\n",
    "    [-1.2, -3.4],\n",
    "    [ 2.5,  3.7],\n",
    "])\n",
    "labels_1 = np.array([0, 1, 1, 1, 0, 1])\n",
    "\n",
    "feats_2 = np.array([\n",
    "    [4.6,   1.7],\n",
    "    [-1,    4.3],\n",
    "    [-0.3, -2.7],\n",
    "    [-1.1,  2],\n",
    "    [ 0.5,  2.5],\n",
    "    [ 4.9,  4.6],\n",
    "    [ 0.3,  4.6],\n",
    "    [-3.9, -4.5],\n",
    "])\n",
    "labels_2 = np.array([\n",
    "    [1, 1],\n",
    "    [0, 0],\n",
    "    [1, 1],\n",
    "    [1, 0],\n",
    "    [1, 0],\n",
    "    [1, 0],\n",
    "    [0, 0],\n",
    "    [1, 1],\n",
    "])"
   ]
  },
  {
   "cell_type": "code",
   "execution_count": 3,
   "id": "f49c1efc-4a4e-44b1-9c53-08b1d914a63a",
   "metadata": {},
   "outputs": [],
   "source": [
    "#### Broken\n",
    "\n",
    "class Perceptron():\n",
    "    def __init__(self, input_size, output_size):\n",
    "        self._W = np.random.normal(0, 1.0/np.sqrt(input_size), (output_size, input_size))\n",
    "        self._b = np.zeros((output_size, ))\n",
    "        \n",
    "    def configure(self, *, epoch=5, learning_rate=0.1):\n",
    "        if epoch < 1:\n",
    "            raise ValueError(\"Epoch cannot be lower than 1\")\n",
    "        self._epoch         = epoch\n",
    "        self._learning_rate = learning_rate\n",
    "        \n",
    "    def train(self, train_data, train_targets):\n",
    "        if train_targets.ndim == 1:\n",
    "            # Each sample has one label\n",
    "            # Turn into column for ease of calculation\n",
    "            train_targets = train_targets.copy().reshape(-1, 1)\n",
    "        \n",
    "        if not self._test_configured():\n",
    "            raise ValueError(\"Perceptron is not configured\")\n",
    "\n",
    "        for _ in range(self._epoch):\n",
    "            for x, y in zip(train_data, train_targets):\n",
    "                predict = self._predict(x)\n",
    "            predicts = self._predict(train_data)\n",
    "            errors   = self._mean_absolute_error(predicts, train_targets)\n",
    "            \n",
    "            W_errors = np.dot(errors.T, train_data)\n",
    "            b_errors = errors.sum(axis=0)\n",
    "            \n",
    "            self._W += self._learning_rate * W_errors\n",
    "            self._b += self._learning_rate * b_errors\n",
    "            \n",
    "    def predict(self, input_data):\n",
    "        return self._predict(input_data)\n",
    "            \n",
    "    def _predict(self, input_data):\n",
    "        heaviside_step = lambda x : 1 if x > 0 else 0\n",
    "        \n",
    "        predicts = np.dot(input_data, self._W.T) + self._b\n",
    "        return np.heaviside(predicts, 0)\n",
    "\n",
    "    def _test_configured(self):\n",
    "        return self._epoch is not None and self._learning_rate is not None\n",
    "        \n",
    "    def _mean_absolute_error(self, predicts, targets):\n",
    "        # Per label error\n",
    "        return predicts - targets\n"
   ]
  },
  {
   "cell_type": "code",
   "execution_count": 4,
   "id": "e0ade193-9c32-41e2-b0bc-00eea9482f2c",
   "metadata": {},
   "outputs": [],
   "source": [
    "class Perceptron():\n",
    "    def __init__(self, input_size):\n",
    "        self._W = np.random.normal(0, 1.0/np.sqrt(input_size), (input_size, ))\n",
    "        self._b = 0\n",
    "        self._learn_rate = None\n",
    "        \n",
    "    def configure(self, *, learn_rate):\n",
    "        if learn_rate is not None:\n",
    "            self._learn_rate = learn_rate\n",
    "        \n",
    "    def train(self, train_data, train_targets):\n",
    "        if self._learn_rate is None:\n",
    "            raise ValueError(\"Perceptron learn rate is not configured\")\n",
    "\n",
    "        for x, y in zip(train_data, train_targets):\n",
    "            p   = self.predict(x)\n",
    "            err = y - p\n",
    "            \n",
    "            self._W += self._learn_rate * err * x\n",
    "            self._b += self._learn_rate * err\n",
    "\n",
    "    def predict(self, input_data):\n",
    "        p = np.multiply(self._W, input_data)\n",
    "        if p.ndim == 2:\n",
    "            p = np.sum(p, axis=1)\n",
    "        else:\n",
    "            p = np.sum(p)\n",
    "        p += self._b\n",
    "        \n",
    "        return np.heaviside(p, 0)\n",
    "        \n",
    "    def get_line(self, points):\n",
    "        if len(self._W) != 2:\n",
    "            raise ValueError(\"Perceptron must have only 2 weights to draw line\")\n",
    "        return np.array([-(self._b + self._W[0] * x) / self._W[1] for x in points])\n",
    "        \n",
    "class NNetwork():\n",
    "    def __init__(self, input_size, output_size):\n",
    "        self._perceps = [Perceptron(input_size) for _ in range(output_size)]\n",
    "        self._epoch = None\n",
    "\n",
    "    def configure(self, *, epoch, learn_rate):\n",
    "        if epoch is not None:\n",
    "            if epoch < 1:\n",
    "                raise ValueError(\"Epoch cannot be lower than 1\")\n",
    "            self._epoch = epoch\n",
    "        \n",
    "        if learn_rate is not None:\n",
    "            for p in self._perceps: \n",
    "                p.configure(learn_rate=learn_rate)\n",
    "                \n",
    "    def train(self, train_data, train_targets):\n",
    "        if train_targets.ndim == 1:\n",
    "            # Each sample has one label\n",
    "            # Turn into column for ease of calculation\n",
    "            train_targets = train_targets.copy().reshape(-1, 1)\n",
    "        \n",
    "        if not self._is_configured():\n",
    "            raise ValueError(\"Epoch is not configured\")\n",
    "\n",
    "        for _ in range(self._epoch):\n",
    "            for i, p in enumerate(self._perceps):\n",
    "                p.train(train_data, train_targets[:, i])\n",
    "                \n",
    "    def predict(self, input_data):\n",
    "        return np.array([p.predict(input_data) for p in self._perceps]).T\n",
    "        \n",
    "    def get_perceptron_lines(self, points):\n",
    "        return np.array([p.get_line(points) for p in self._perceps])\n",
    "        \n",
    "    def _is_configured(self):\n",
    "        return self._epoch is not None"
   ]
  },
  {
   "cell_type": "code",
   "execution_count": 5,
   "id": "b2315e91-3647-45de-8241-b01df7211bdc",
   "metadata": {},
   "outputs": [],
   "source": [
    "nnet = NNetwork(2, 1)\n",
    "nnet.configure(epoch=20, learn_rate=0.1)\n",
    "nnet.train(feats_1, labels_1)"
   ]
  },
  {
   "cell_type": "code",
   "execution_count": 6,
   "id": "f7250034-2ec1-49e8-af1d-6e6c7c0e34f6",
   "metadata": {},
   "outputs": [
    {
     "data": {
      "text/plain": [
       "array([[0.],\n",
       "       [1.],\n",
       "       [1.],\n",
       "       [1.],\n",
       "       [0.],\n",
       "       [1.]])"
      ]
     },
     "execution_count": 6,
     "metadata": {},
     "output_type": "execute_result"
    }
   ],
   "source": [
    "nnet.predict(feats_1)"
   ]
  },
  {
   "cell_type": "code",
   "execution_count": 7,
   "id": "f6a0cb2e-b11a-4c4a-ae6f-343eb764982e",
   "metadata": {},
   "outputs": [
    {
     "data": {
      "image/png": "[encoded data removed]",
      "text/plain": [
       "<Figure size 432x288 with 1 Axes>"
      ]
     },
     "metadata": {
      "needs_background": "light"
     },
     "output_type": "display_data"
    }
   ],
   "source": [
    "plt.scatter(feats_1[:,0], feats_1[:,1], c=labels_1)\n",
    "points = [-5, 5]\n",
    "for line in nnet.get_perceptron_lines(points):\n",
    "    plt.plot(points, line)"
   ]
  },
  {
   "cell_type": "code",
   "execution_count": 8,
   "id": "3bc45f3e-5fec-4d8c-abb7-9eff63691a9c",
   "metadata": {},
   "outputs": [],
   "source": [
    "nnet = NNetwork(2, 2)\n",
    "nnet.configure(epoch=20, learn_rate=0.1)\n",
    "nnet.train(feats_2, labels_2)"
   ]
  },
  {
   "cell_type": "code",
   "execution_count": 9,
   "id": "ce1a0fc8-0592-4cd7-8cda-a5b92b6c90d9",
   "metadata": {},
   "outputs": [
    {
     "data": {
      "text/plain": [
       "array([[1., 1.],\n",
       "       [0., 0.],\n",
       "       [1., 1.],\n",
       "       [1., 0.],\n",
       "       [1., 0.],\n",
       "       [1., 0.],\n",
       "       [0., 0.],\n",
       "       [1., 1.]])"
      ]
     },
     "execution_count": 9,
     "metadata": {},
     "output_type": "execute_result"
    }
   ],
   "source": [
    "nnet.predict(feats_2)"
   ]
  },
  {
   "cell_type": "code",
   "execution_count": 10,
   "id": "db433629-f5cf-448c-a651-d213b418c0e1",
   "metadata": {},
   "outputs": [
    {
     "data": {
      "image/png": "[encoded data removed]",
      "text/plain": [
       "<Figure size 432x288 with 1 Axes>"
      ]
     },
     "metadata": {
      "needs_background": "light"
     },
     "output_type": "display_data"
    }
   ],
   "source": [
    "plt.scatter(feats_2[:,0], feats_2[:,1], c=list(map(lambda x : x[0]*2 + x[1], labels_2)))\n",
    "points = [-5, 5]\n",
    "for line in nnet.get_perceptron_lines(points):\n",
    "    plt.plot(points, line)"
   ]
  },
  {
   "cell_type": "code",
   "execution_count": null,
   "id": "79073322-85c1-4afa-993e-9d1ea149da21",
   "metadata": {},
   "outputs": [],
   "source": []
  }
 ],
 "metadata": {
  "kernelspec": {
   "display_name": "Python 3",
   "language": "python",
   "name": "python3"
  },
  "language_info": {
   "codemirror_mode": {
    "name": "ipython",
    "version": 3
   },
   "file_extension": ".py",
   "mimetype": "text/x-python",
   "name": "python",
   "nbconvert_exporter": "python",
   "pygments_lexer": "ipython3",
   "version": "3.9.7"
  }
 },
 "nbformat": 4,
 "nbformat_minor": 5
}
